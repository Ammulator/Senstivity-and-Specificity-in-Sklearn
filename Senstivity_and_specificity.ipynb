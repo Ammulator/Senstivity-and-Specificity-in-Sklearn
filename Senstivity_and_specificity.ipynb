{
  "nbformat": 4,
  "nbformat_minor": 0,
  "metadata": {
    "colab": {
      "name": "Senstivity and specificity.ipynb",
      "provenance": [],
      "collapsed_sections": [],
      "authorship_tag": "ABX9TyN/DnhO6VLNDpOjrzlrEJB9",
      "include_colab_link": true
    },
    "kernelspec": {
      "name": "python3",
      "display_name": "Python 3"
    }
  },
  "cells": [
    {
      "cell_type": "markdown",
      "metadata": {
        "id": "view-in-github",
        "colab_type": "text"
      },
      "source": [
        "<a href=\"https://colab.research.google.com/github/Ammulator/Senstivity-and-Specificity-in-Sklearn/blob/main/Senstivity_and_specificity.ipynb\" target=\"_parent\"><img src=\"https://colab.research.google.com/assets/colab-badge.svg\" alt=\"Open In Colab\"/></a>"
      ]
    },
    {
      "cell_type": "code",
      "metadata": {
        "id": "MOsIyVP9oN-s"
      },
      "source": [
        "import pandas as pd\r\n",
        "import numpy as np"
      ],
      "execution_count": null,
      "outputs": []
    },
    {
      "cell_type": "code",
      "metadata": {
        "id": "v6xD6-BGyFOB"
      },
      "source": [
        "df=pd.read_csv(\"BankChurners.csv\")\r\n",
        "X=df[['Credit_Limit','Avg_Open_To_Buy','Total_Trans_Ct','Avg_Utilization_Ratio','Total_Trans_Amt']].values[:1000]\r\n",
        "y=df['Customer_Age'].values[:1000]"
      ],
      "execution_count": null,
      "outputs": []
    },
    {
      "cell_type": "code",
      "metadata": {
        "id": "p0c9uD9qzHYf"
      },
      "source": [
        "from sklearn.model_selection import train_test_split\r\n",
        "X_train,X_test,y_train,y_test=train_test_split(X,y,test_size=0.5)\r\n"
      ],
      "execution_count": null,
      "outputs": []
    },
    {
      "cell_type": "code",
      "metadata": {
        "colab": {
          "base_uri": "https://localhost:8080/"
        },
        "id": "xNWO7Yb28MXC",
        "outputId": "320f2cf0-7ac5-4902-afe3-8795bf9ae5cb"
      },
      "source": [
        "from sklearn.linear_model import LogisticRegression\r\n",
        "model=LogisticRegression()\r\n",
        "model.fit(X_train,y_train)\r\n",
        "y_pred=model.predict(X_test)"
      ],
      "execution_count": null,
      "outputs": [
        {
          "output_type": "stream",
          "text": [
            "/usr/local/lib/python3.6/dist-packages/sklearn/linear_model/_logistic.py:940: ConvergenceWarning: lbfgs failed to converge (status=1):\n",
            "STOP: TOTAL NO. of ITERATIONS REACHED LIMIT.\n",
            "\n",
            "Increase the number of iterations (max_iter) or scale the data as shown in:\n",
            "    https://scikit-learn.org/stable/modules/preprocessing.html\n",
            "Please also refer to the documentation for alternative solver options:\n",
            "    https://scikit-learn.org/stable/modules/linear_model.html#logistic-regression\n",
            "  extra_warning_msg=_LOGISTIC_SOLVER_CONVERGENCE_MSG)\n"
          ],
          "name": "stderr"
        }
      ]
    },
    {
      "cell_type": "code",
      "metadata": {
        "colab": {
          "base_uri": "https://localhost:8080/"
        },
        "id": "TnQNhrQr5gEQ",
        "outputId": "0b567b81-45f6-47e8-ef19-509d3b0aae78"
      },
      "source": [
        "#Senstivity and Specificity\r\n",
        "#Here we use the below function to find the specificity as it the opposite of Senstivity \r\n",
        "from sklearn.metrics import recall_score,precision_recall_fscore_support\r\n",
        "def Specificity(y_test,y_pred):\r\n",
        "  m, n,o,p=precision_recall_fscore_support(y_test,y_pred)\r\n",
        "  return n[0]\r\n",
        "print(\"Specificity is :\",Specificity(y_test,y_pred))"
      ],
      "execution_count": 107,
      "outputs": [
        {
          "output_type": "stream",
          "text": [
            "Specificity is : 0.6666666666666666\n"
          ],
          "name": "stdout"
        },
        {
          "output_type": "stream",
          "text": [
            "/usr/local/lib/python3.6/dist-packages/sklearn/metrics/_classification.py:1272: UndefinedMetricWarning: Precision and F-score are ill-defined and being set to 0.0 in labels with no predicted samples. Use `zero_division` parameter to control this behavior.\n",
            "  _warn_prf(average, modifier, msg_start, len(result))\n"
          ],
          "name": "stderr"
        }
      ]
    },
    {
      "cell_type": "code",
      "metadata": {
        "colab": {
          "base_uri": "https://localhost:8080/"
        },
        "id": "s2UJ29CUVp1u",
        "outputId": "16286872-28d9-4fab-9c1e-80113898bda1"
      },
      "source": [
        "Senstivity_score=recall_score(y_test,y_pred,average=\"micro\")\r\n",
        "print(\"Senstiviy_score; \",Senstivity_score)"
      ],
      "execution_count": 108,
      "outputs": [
        {
          "output_type": "stream",
          "text": [
            "Senstiviy_score;  0.038\n"
          ],
          "name": "stdout"
        }
      ]
    }
  ]
}